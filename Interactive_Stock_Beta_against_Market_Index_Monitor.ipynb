{
  "nbformat": 4,
  "nbformat_minor": 0,
  "metadata": {
    "colab": {
      "provenance": []
    },
    "kernelspec": {
      "name": "python3",
      "display_name": "Python 3"
    },
    "language_info": {
      "name": "python"
    },
    "widgets": {
      "application/vnd.jupyter.widget-state+json": {
        "9ca80e9da53a44aeb28a7d312c0e6122": {
          "model_module": "@jupyter-widgets/controls",
          "model_name": "TextModel",
          "model_module_version": "1.5.0",
          "state": {
            "_dom_classes": [],
            "_model_module": "@jupyter-widgets/controls",
            "_model_module_version": "1.5.0",
            "_model_name": "TextModel",
            "_view_count": null,
            "_view_module": "@jupyter-widgets/controls",
            "_view_module_version": "1.5.0",
            "_view_name": "TextView",
            "continuous_update": true,
            "description": "Stock Ticker:",
            "description_tooltip": null,
            "disabled": false,
            "layout": "IPY_MODEL_7dbf25a9aac6444e884218bb2ef56a1b",
            "placeholder": "​",
            "style": "IPY_MODEL_5a77253f28524bc0b5799a7a15a376b5",
            "value": "AAPL"
          }
        },
        "7dbf25a9aac6444e884218bb2ef56a1b": {
          "model_module": "@jupyter-widgets/base",
          "model_name": "LayoutModel",
          "model_module_version": "1.2.0",
          "state": {
            "_model_module": "@jupyter-widgets/base",
            "_model_module_version": "1.2.0",
            "_model_name": "LayoutModel",
            "_view_count": null,
            "_view_module": "@jupyter-widgets/base",
            "_view_module_version": "1.2.0",
            "_view_name": "LayoutView",
            "align_content": null,
            "align_items": null,
            "align_self": null,
            "border": null,
            "bottom": null,
            "display": null,
            "flex": null,
            "flex_flow": null,
            "grid_area": null,
            "grid_auto_columns": null,
            "grid_auto_flow": null,
            "grid_auto_rows": null,
            "grid_column": null,
            "grid_gap": null,
            "grid_row": null,
            "grid_template_areas": null,
            "grid_template_columns": null,
            "grid_template_rows": null,
            "height": null,
            "justify_content": null,
            "justify_items": null,
            "left": null,
            "margin": null,
            "max_height": null,
            "max_width": null,
            "min_height": null,
            "min_width": null,
            "object_fit": null,
            "object_position": null,
            "order": null,
            "overflow": null,
            "overflow_x": null,
            "overflow_y": null,
            "padding": null,
            "right": null,
            "top": null,
            "visibility": null,
            "width": null
          }
        },
        "5a77253f28524bc0b5799a7a15a376b5": {
          "model_module": "@jupyter-widgets/controls",
          "model_name": "DescriptionStyleModel",
          "model_module_version": "1.5.0",
          "state": {
            "_model_module": "@jupyter-widgets/controls",
            "_model_module_version": "1.5.0",
            "_model_name": "DescriptionStyleModel",
            "_view_count": null,
            "_view_module": "@jupyter-widgets/base",
            "_view_module_version": "1.2.0",
            "_view_name": "StyleView",
            "description_width": ""
          }
        },
        "9ea3992b474b488888986e95bbfb24f7": {
          "model_module": "@jupyter-widgets/controls",
          "model_name": "DropdownModel",
          "model_module_version": "1.5.0",
          "state": {
            "_dom_classes": [],
            "_model_module": "@jupyter-widgets/controls",
            "_model_module_version": "1.5.0",
            "_model_name": "DropdownModel",
            "_options_labels": [
              "S&P 500",
              "Dow Jones",
              "Nasdaq 100",
              "FTSE 100",
              "DAX",
              "Nikkei 225"
            ],
            "_view_count": null,
            "_view_module": "@jupyter-widgets/controls",
            "_view_module_version": "1.5.0",
            "_view_name": "DropdownView",
            "description": "Market Index:",
            "description_tooltip": null,
            "disabled": false,
            "index": 5,
            "layout": "IPY_MODEL_18e2157c095c4bf2b7f115e483ce1328",
            "style": "IPY_MODEL_8b2ff0e9b7e24eeeb7d7b338f5f9af8e"
          }
        },
        "18e2157c095c4bf2b7f115e483ce1328": {
          "model_module": "@jupyter-widgets/base",
          "model_name": "LayoutModel",
          "model_module_version": "1.2.0",
          "state": {
            "_model_module": "@jupyter-widgets/base",
            "_model_module_version": "1.2.0",
            "_model_name": "LayoutModel",
            "_view_count": null,
            "_view_module": "@jupyter-widgets/base",
            "_view_module_version": "1.2.0",
            "_view_name": "LayoutView",
            "align_content": null,
            "align_items": null,
            "align_self": null,
            "border": null,
            "bottom": null,
            "display": null,
            "flex": null,
            "flex_flow": null,
            "grid_area": null,
            "grid_auto_columns": null,
            "grid_auto_flow": null,
            "grid_auto_rows": null,
            "grid_column": null,
            "grid_gap": null,
            "grid_row": null,
            "grid_template_areas": null,
            "grid_template_columns": null,
            "grid_template_rows": null,
            "height": null,
            "justify_content": null,
            "justify_items": null,
            "left": null,
            "margin": null,
            "max_height": null,
            "max_width": null,
            "min_height": null,
            "min_width": null,
            "object_fit": null,
            "object_position": null,
            "order": null,
            "overflow": null,
            "overflow_x": null,
            "overflow_y": null,
            "padding": null,
            "right": null,
            "top": null,
            "visibility": null,
            "width": null
          }
        },
        "8b2ff0e9b7e24eeeb7d7b338f5f9af8e": {
          "model_module": "@jupyter-widgets/controls",
          "model_name": "DescriptionStyleModel",
          "model_module_version": "1.5.0",
          "state": {
            "_model_module": "@jupyter-widgets/controls",
            "_model_module_version": "1.5.0",
            "_model_name": "DescriptionStyleModel",
            "_view_count": null,
            "_view_module": "@jupyter-widgets/base",
            "_view_module_version": "1.2.0",
            "_view_name": "StyleView",
            "description_width": ""
          }
        },
        "09b5cffc3885401b8981972bd98a96de": {
          "model_module": "@jupyter-widgets/controls",
          "model_name": "TextModel",
          "model_module_version": "1.5.0",
          "state": {
            "_dom_classes": [],
            "_model_module": "@jupyter-widgets/controls",
            "_model_module_version": "1.5.0",
            "_model_name": "TextModel",
            "_view_count": null,
            "_view_module": "@jupyter-widgets/controls",
            "_view_module_version": "1.5.0",
            "_view_name": "TextView",
            "continuous_update": true,
            "description": "Start Date:",
            "description_tooltip": null,
            "disabled": false,
            "layout": "IPY_MODEL_6575416c2da84d7f816c92dff229a1a4",
            "placeholder": "​",
            "style": "IPY_MODEL_ae4b480b7ba2401bbaa6071e390dc0e3",
            "value": "2021-01-01"
          }
        },
        "6575416c2da84d7f816c92dff229a1a4": {
          "model_module": "@jupyter-widgets/base",
          "model_name": "LayoutModel",
          "model_module_version": "1.2.0",
          "state": {
            "_model_module": "@jupyter-widgets/base",
            "_model_module_version": "1.2.0",
            "_model_name": "LayoutModel",
            "_view_count": null,
            "_view_module": "@jupyter-widgets/base",
            "_view_module_version": "1.2.0",
            "_view_name": "LayoutView",
            "align_content": null,
            "align_items": null,
            "align_self": null,
            "border": null,
            "bottom": null,
            "display": null,
            "flex": null,
            "flex_flow": null,
            "grid_area": null,
            "grid_auto_columns": null,
            "grid_auto_flow": null,
            "grid_auto_rows": null,
            "grid_column": null,
            "grid_gap": null,
            "grid_row": null,
            "grid_template_areas": null,
            "grid_template_columns": null,
            "grid_template_rows": null,
            "height": null,
            "justify_content": null,
            "justify_items": null,
            "left": null,
            "margin": null,
            "max_height": null,
            "max_width": null,
            "min_height": null,
            "min_width": null,
            "object_fit": null,
            "object_position": null,
            "order": null,
            "overflow": null,
            "overflow_x": null,
            "overflow_y": null,
            "padding": null,
            "right": null,
            "top": null,
            "visibility": null,
            "width": null
          }
        },
        "ae4b480b7ba2401bbaa6071e390dc0e3": {
          "model_module": "@jupyter-widgets/controls",
          "model_name": "DescriptionStyleModel",
          "model_module_version": "1.5.0",
          "state": {
            "_model_module": "@jupyter-widgets/controls",
            "_model_module_version": "1.5.0",
            "_model_name": "DescriptionStyleModel",
            "_view_count": null,
            "_view_module": "@jupyter-widgets/base",
            "_view_module_version": "1.2.0",
            "_view_name": "StyleView",
            "description_width": ""
          }
        },
        "c6ef09fef8324c96b95d73abfdd01f80": {
          "model_module": "@jupyter-widgets/controls",
          "model_name": "TextModel",
          "model_module_version": "1.5.0",
          "state": {
            "_dom_classes": [],
            "_model_module": "@jupyter-widgets/controls",
            "_model_module_version": "1.5.0",
            "_model_name": "TextModel",
            "_view_count": null,
            "_view_module": "@jupyter-widgets/controls",
            "_view_module_version": "1.5.0",
            "_view_name": "TextView",
            "continuous_update": true,
            "description": "End Date:",
            "description_tooltip": null,
            "disabled": false,
            "layout": "IPY_MODEL_27c95b6fe1664eaaa56245bd883c9bce",
            "placeholder": "​",
            "style": "IPY_MODEL_ccb10b92307c46d0b1fbda8ab20444e5",
            "value": "2024-12-30"
          }
        },
        "27c95b6fe1664eaaa56245bd883c9bce": {
          "model_module": "@jupyter-widgets/base",
          "model_name": "LayoutModel",
          "model_module_version": "1.2.0",
          "state": {
            "_model_module": "@jupyter-widgets/base",
            "_model_module_version": "1.2.0",
            "_model_name": "LayoutModel",
            "_view_count": null,
            "_view_module": "@jupyter-widgets/base",
            "_view_module_version": "1.2.0",
            "_view_name": "LayoutView",
            "align_content": null,
            "align_items": null,
            "align_self": null,
            "border": null,
            "bottom": null,
            "display": null,
            "flex": null,
            "flex_flow": null,
            "grid_area": null,
            "grid_auto_columns": null,
            "grid_auto_flow": null,
            "grid_auto_rows": null,
            "grid_column": null,
            "grid_gap": null,
            "grid_row": null,
            "grid_template_areas": null,
            "grid_template_columns": null,
            "grid_template_rows": null,
            "height": null,
            "justify_content": null,
            "justify_items": null,
            "left": null,
            "margin": null,
            "max_height": null,
            "max_width": null,
            "min_height": null,
            "min_width": null,
            "object_fit": null,
            "object_position": null,
            "order": null,
            "overflow": null,
            "overflow_x": null,
            "overflow_y": null,
            "padding": null,
            "right": null,
            "top": null,
            "visibility": null,
            "width": null
          }
        },
        "ccb10b92307c46d0b1fbda8ab20444e5": {
          "model_module": "@jupyter-widgets/controls",
          "model_name": "DescriptionStyleModel",
          "model_module_version": "1.5.0",
          "state": {
            "_model_module": "@jupyter-widgets/controls",
            "_model_module_version": "1.5.0",
            "_model_name": "DescriptionStyleModel",
            "_view_count": null,
            "_view_module": "@jupyter-widgets/base",
            "_view_module_version": "1.2.0",
            "_view_name": "StyleView",
            "description_width": ""
          }
        },
        "f7dfa8d888854065b7c78b01728ccdb0": {
          "model_module": "@jupyter-widgets/controls",
          "model_name": "ButtonModel",
          "model_module_version": "1.5.0",
          "state": {
            "_dom_classes": [],
            "_model_module": "@jupyter-widgets/controls",
            "_model_module_version": "1.5.0",
            "_model_name": "ButtonModel",
            "_view_count": null,
            "_view_module": "@jupyter-widgets/controls",
            "_view_module_version": "1.5.0",
            "_view_name": "ButtonView",
            "button_style": "",
            "description": "Compute Beta",
            "disabled": false,
            "icon": "",
            "layout": "IPY_MODEL_7f3efd1cbb614a14bf6f3e2d533a1a82",
            "style": "IPY_MODEL_bfc776899e14429786fef19e0c7e1179",
            "tooltip": ""
          }
        },
        "7f3efd1cbb614a14bf6f3e2d533a1a82": {
          "model_module": "@jupyter-widgets/base",
          "model_name": "LayoutModel",
          "model_module_version": "1.2.0",
          "state": {
            "_model_module": "@jupyter-widgets/base",
            "_model_module_version": "1.2.0",
            "_model_name": "LayoutModel",
            "_view_count": null,
            "_view_module": "@jupyter-widgets/base",
            "_view_module_version": "1.2.0",
            "_view_name": "LayoutView",
            "align_content": null,
            "align_items": null,
            "align_self": null,
            "border": null,
            "bottom": null,
            "display": null,
            "flex": null,
            "flex_flow": null,
            "grid_area": null,
            "grid_auto_columns": null,
            "grid_auto_flow": null,
            "grid_auto_rows": null,
            "grid_column": null,
            "grid_gap": null,
            "grid_row": null,
            "grid_template_areas": null,
            "grid_template_columns": null,
            "grid_template_rows": null,
            "height": null,
            "justify_content": null,
            "justify_items": null,
            "left": null,
            "margin": null,
            "max_height": null,
            "max_width": null,
            "min_height": null,
            "min_width": null,
            "object_fit": null,
            "object_position": null,
            "order": null,
            "overflow": null,
            "overflow_x": null,
            "overflow_y": null,
            "padding": null,
            "right": null,
            "top": null,
            "visibility": null,
            "width": null
          }
        },
        "bfc776899e14429786fef19e0c7e1179": {
          "model_module": "@jupyter-widgets/controls",
          "model_name": "ButtonStyleModel",
          "model_module_version": "1.5.0",
          "state": {
            "_model_module": "@jupyter-widgets/controls",
            "_model_module_version": "1.5.0",
            "_model_name": "ButtonStyleModel",
            "_view_count": null,
            "_view_module": "@jupyter-widgets/base",
            "_view_module_version": "1.2.0",
            "_view_name": "StyleView",
            "button_color": null,
            "font_weight": ""
          }
        }
      }
    }
  },
  "cells": [
    {
      "cell_type": "code",
      "execution_count": 1,
      "metadata": {
        "colab": {
          "base_uri": "https://localhost:8080/",
          "height": 327,
          "referenced_widgets": [
            "9ca80e9da53a44aeb28a7d312c0e6122",
            "7dbf25a9aac6444e884218bb2ef56a1b",
            "5a77253f28524bc0b5799a7a15a376b5",
            "9ea3992b474b488888986e95bbfb24f7",
            "18e2157c095c4bf2b7f115e483ce1328",
            "8b2ff0e9b7e24eeeb7d7b338f5f9af8e",
            "09b5cffc3885401b8981972bd98a96de",
            "6575416c2da84d7f816c92dff229a1a4",
            "ae4b480b7ba2401bbaa6071e390dc0e3",
            "c6ef09fef8324c96b95d73abfdd01f80",
            "27c95b6fe1664eaaa56245bd883c9bce",
            "ccb10b92307c46d0b1fbda8ab20444e5",
            "f7dfa8d888854065b7c78b01728ccdb0",
            "7f3efd1cbb614a14bf6f3e2d533a1a82",
            "bfc776899e14429786fef19e0c7e1179"
          ]
        },
        "id": "T2xP1HYJV1hl",
        "outputId": "5d9edc82-78fb-4d07-b117-0759940bbaf2"
      },
      "outputs": [
        {
          "output_type": "display_data",
          "data": {
            "text/plain": [
              "Text(value='', description='Stock Ticker:')"
            ],
            "application/vnd.jupyter.widget-view+json": {
              "version_major": 2,
              "version_minor": 0,
              "model_id": "9ca80e9da53a44aeb28a7d312c0e6122"
            }
          },
          "metadata": {}
        },
        {
          "output_type": "display_data",
          "data": {
            "text/plain": [
              "Dropdown(description='Market Index:', options={'S&P 500': '^GSPC', 'Dow Jones': '^DJI', 'Nasdaq 100': '^NDX', …"
            ],
            "application/vnd.jupyter.widget-view+json": {
              "version_major": 2,
              "version_minor": 0,
              "model_id": "9ea3992b474b488888986e95bbfb24f7"
            }
          },
          "metadata": {}
        },
        {
          "output_type": "display_data",
          "data": {
            "text/plain": [
              "Text(value='', description='Start Date:')"
            ],
            "application/vnd.jupyter.widget-view+json": {
              "version_major": 2,
              "version_minor": 0,
              "model_id": "09b5cffc3885401b8981972bd98a96de"
            }
          },
          "metadata": {}
        },
        {
          "output_type": "display_data",
          "data": {
            "text/plain": [
              "Text(value='', description='End Date:')"
            ],
            "application/vnd.jupyter.widget-view+json": {
              "version_major": 2,
              "version_minor": 0,
              "model_id": "c6ef09fef8324c96b95d73abfdd01f80"
            }
          },
          "metadata": {}
        },
        {
          "output_type": "display_data",
          "data": {
            "text/plain": [
              "Button(description='Compute Beta', style=ButtonStyle())"
            ],
            "application/vnd.jupyter.widget-view+json": {
              "version_major": 2,
              "version_minor": 0,
              "model_id": "f7dfa8d888854065b7c78b01728ccdb0"
            }
          },
          "metadata": {}
        },
        {
          "output_type": "stream",
          "name": "stdout",
          "text": [
            "YF.download() has changed argument auto_adjust default to True\n",
            "The Beta of AAP against ^GSPC from 2021-01-01 to 2024-12-30 is: 0.92\n",
            "The Beta of AAP against ^DJI from 2021-01-01 to 2024-12-30 is: 1.19\n",
            "The Beta of AAPL against ^DJI from 2021-01-01 to 2024-12-30 is: 1.17\n",
            "The Beta of AAPL against ^GSPC from 2021-01-01 to 2024-12-30 is: 1.23\n",
            "The Beta of AAPL against ^NDX from 2021-01-01 to 2024-12-30 is: 0.93\n",
            "The Beta of AAPL against ^FTSE from 2021-01-01 to 2024-12-30 is: 0.42\n",
            "The Beta of AAPL against ^GDAXI from 2021-01-01 to 2024-12-30 is: 0.55\n",
            "The Beta of AAPL against ^N225 from 2021-01-01 to 2024-12-30 is: 0.15\n"
          ]
        }
      ],
      "source": [
        "import yfinance as yf\n",
        "import numpy as np\n",
        "import pandas as pd\n",
        "import matplotlib.pyplot as plt\n",
        "import ipywidgets as widgets\n",
        "from IPython.display import display\n",
        "\n",
        "def calculate_beta(ticker, market_ticker, start_date, end_date):\n",
        "    data = yf.download(ticker, start=start_date, end=end_date,progress=False)\n",
        "    market_data = yf.download(market_ticker, start=start_date, end=end_date, progress=False)\n",
        "\n",
        "    if data.empty or market_data.empty:\n",
        "        print(\"Invalid input or no data available. Please try again.\")\n",
        "        return\n",
        "\n",
        "    data = data[['Close']]\n",
        "    market_data = market_data[['Close']]\n",
        "\n",
        "    data['Daily Return'] = data['Close'].pct_change()\n",
        "    market_data['Daily Return'] = market_data['Close'].pct_change()\n",
        "\n",
        "    combined_data = pd.DataFrame({\n",
        "        'Stock Return': data['Daily Return'],\n",
        "        'Market Return': market_data['Daily Return']\n",
        "    }).dropna()\n",
        "\n",
        "    covariance = combined_data.cov().iloc[0, 1]\n",
        "    market_variance = combined_data['Market Return'].var()\n",
        "    beta = covariance / market_variance\n",
        "\n",
        "    print(f\"The Beta of {ticker} against {market_ticker} from {start_date} to {end_date} is: {beta:.2f}\")\n",
        "\n",
        "stock_ticker = widgets.Text(description='Stock Ticker:')\n",
        "market_index = widgets.Dropdown(\n",
        "    options={'S&P 500': '^GSPC', 'Dow Jones': '^DJI', 'Nasdaq 100': '^NDX', 'FTSE 100': '^FTSE', 'DAX': '^GDAXI', 'Nikkei 225': '^N225'},\n",
        "    description='Market Index:'\n",
        ")\n",
        "start_date = widgets.Text(description='Start Date:')\n",
        "end_date = widgets.Text(description='End Date:')\n",
        "compute_button = widgets.Button(description='Compute Beta')\n",
        "\n",
        "def on_compute_clicked(b):\n",
        "    calculate_beta(stock_ticker.value, market_index.value, start_date.value, end_date.value)\n",
        "\n",
        "compute_button.on_click(on_compute_clicked)\n",
        "\n",
        "display(stock_ticker, market_index, start_date, end_date, compute_button)"
      ]
    }
  ]
}