{
  "nbformat": 4,
  "nbformat_minor": 0,
  "metadata": {
    "colab": {
      "provenance": []
    },
    "kernelspec": {
      "name": "python3",
      "display_name": "Python 3"
    },
    "language_info": {
      "name": "python"
    },
    "widgets": {
      "application/vnd.jupyter.widget-state+json": {
        "a8d81147e96640059edd3d2f05874e25": {
          "model_module": "@jupyter-widgets/controls",
          "model_name": "TextModel",
          "model_module_version": "1.5.0",
          "state": {
            "_dom_classes": [],
            "_model_module": "@jupyter-widgets/controls",
            "_model_module_version": "1.5.0",
            "_model_name": "TextModel",
            "_view_count": null,
            "_view_module": "@jupyter-widgets/controls",
            "_view_module_version": "1.5.0",
            "_view_name": "TextView",
            "continuous_update": true,
            "description": "Ticker:",
            "description_tooltip": null,
            "disabled": false,
            "layout": "IPY_MODEL_4435e4dcb76f4e51a76f131c143114e7",
            "placeholder": "​",
            "style": "IPY_MODEL_0df2f1ade00540c2b955a44ed6d9998c",
            "value": "NVDA"
          }
        },
        "4435e4dcb76f4e51a76f131c143114e7": {
          "model_module": "@jupyter-widgets/base",
          "model_name": "LayoutModel",
          "model_module_version": "1.2.0",
          "state": {
            "_model_module": "@jupyter-widgets/base",
            "_model_module_version": "1.2.0",
            "_model_name": "LayoutModel",
            "_view_count": null,
            "_view_module": "@jupyter-widgets/base",
            "_view_module_version": "1.2.0",
            "_view_name": "LayoutView",
            "align_content": null,
            "align_items": null,
            "align_self": null,
            "border": null,
            "bottom": null,
            "display": null,
            "flex": null,
            "flex_flow": null,
            "grid_area": null,
            "grid_auto_columns": null,
            "grid_auto_flow": null,
            "grid_auto_rows": null,
            "grid_column": null,
            "grid_gap": null,
            "grid_row": null,
            "grid_template_areas": null,
            "grid_template_columns": null,
            "grid_template_rows": null,
            "height": null,
            "justify_content": null,
            "justify_items": null,
            "left": null,
            "margin": null,
            "max_height": null,
            "max_width": null,
            "min_height": null,
            "min_width": null,
            "object_fit": null,
            "object_position": null,
            "order": null,
            "overflow": null,
            "overflow_x": null,
            "overflow_y": null,
            "padding": null,
            "right": null,
            "top": null,
            "visibility": null,
            "width": null
          }
        },
        "0df2f1ade00540c2b955a44ed6d9998c": {
          "model_module": "@jupyter-widgets/controls",
          "model_name": "DescriptionStyleModel",
          "model_module_version": "1.5.0",
          "state": {
            "_model_module": "@jupyter-widgets/controls",
            "_model_module_version": "1.5.0",
            "_model_name": "DescriptionStyleModel",
            "_view_count": null,
            "_view_module": "@jupyter-widgets/base",
            "_view_module_version": "1.2.0",
            "_view_name": "StyleView",
            "description_width": ""
          }
        },
        "bcedfb9a847444339a0dbc4342d5a298": {
          "model_module": "@jupyter-widgets/controls",
          "model_name": "TextModel",
          "model_module_version": "1.5.0",
          "state": {
            "_dom_classes": [],
            "_model_module": "@jupyter-widgets/controls",
            "_model_module_version": "1.5.0",
            "_model_name": "TextModel",
            "_view_count": null,
            "_view_module": "@jupyter-widgets/controls",
            "_view_module_version": "1.5.0",
            "_view_name": "TextView",
            "continuous_update": true,
            "description": "Year (YYYY):",
            "description_tooltip": null,
            "disabled": false,
            "layout": "IPY_MODEL_b51043ec4de44775aa0d19f24ea42b6f",
            "placeholder": "​",
            "style": "IPY_MODEL_5cad7e500d054bc1808f7cf93d07d6c5",
            "value": "2024"
          }
        },
        "b51043ec4de44775aa0d19f24ea42b6f": {
          "model_module": "@jupyter-widgets/base",
          "model_name": "LayoutModel",
          "model_module_version": "1.2.0",
          "state": {
            "_model_module": "@jupyter-widgets/base",
            "_model_module_version": "1.2.0",
            "_model_name": "LayoutModel",
            "_view_count": null,
            "_view_module": "@jupyter-widgets/base",
            "_view_module_version": "1.2.0",
            "_view_name": "LayoutView",
            "align_content": null,
            "align_items": null,
            "align_self": null,
            "border": null,
            "bottom": null,
            "display": null,
            "flex": null,
            "flex_flow": null,
            "grid_area": null,
            "grid_auto_columns": null,
            "grid_auto_flow": null,
            "grid_auto_rows": null,
            "grid_column": null,
            "grid_gap": null,
            "grid_row": null,
            "grid_template_areas": null,
            "grid_template_columns": null,
            "grid_template_rows": null,
            "height": null,
            "justify_content": null,
            "justify_items": null,
            "left": null,
            "margin": null,
            "max_height": null,
            "max_width": null,
            "min_height": null,
            "min_width": null,
            "object_fit": null,
            "object_position": null,
            "order": null,
            "overflow": null,
            "overflow_x": null,
            "overflow_y": null,
            "padding": null,
            "right": null,
            "top": null,
            "visibility": null,
            "width": null
          }
        },
        "5cad7e500d054bc1808f7cf93d07d6c5": {
          "model_module": "@jupyter-widgets/controls",
          "model_name": "DescriptionStyleModel",
          "model_module_version": "1.5.0",
          "state": {
            "_model_module": "@jupyter-widgets/controls",
            "_model_module_version": "1.5.0",
            "_model_name": "DescriptionStyleModel",
            "_view_count": null,
            "_view_module": "@jupyter-widgets/base",
            "_view_module_version": "1.2.0",
            "_view_name": "StyleView",
            "description_width": ""
          }
        },
        "e562103e29e54e26be18031148b49698": {
          "model_module": "@jupyter-widgets/controls",
          "model_name": "ButtonModel",
          "model_module_version": "1.5.0",
          "state": {
            "_dom_classes": [],
            "_model_module": "@jupyter-widgets/controls",
            "_model_module_version": "1.5.0",
            "_model_name": "ButtonModel",
            "_view_count": null,
            "_view_module": "@jupyter-widgets/controls",
            "_view_module_version": "1.5.0",
            "_view_name": "ButtonView",
            "button_style": "",
            "description": "Compute",
            "disabled": false,
            "icon": "",
            "layout": "IPY_MODEL_d4e5ced403ae454eace04d2e549eca10",
            "style": "IPY_MODEL_b6ea110e495446559cf3f0d9e17dcec0",
            "tooltip": ""
          }
        },
        "d4e5ced403ae454eace04d2e549eca10": {
          "model_module": "@jupyter-widgets/base",
          "model_name": "LayoutModel",
          "model_module_version": "1.2.0",
          "state": {
            "_model_module": "@jupyter-widgets/base",
            "_model_module_version": "1.2.0",
            "_model_name": "LayoutModel",
            "_view_count": null,
            "_view_module": "@jupyter-widgets/base",
            "_view_module_version": "1.2.0",
            "_view_name": "LayoutView",
            "align_content": null,
            "align_items": null,
            "align_self": null,
            "border": null,
            "bottom": null,
            "display": null,
            "flex": null,
            "flex_flow": null,
            "grid_area": null,
            "grid_auto_columns": null,
            "grid_auto_flow": null,
            "grid_auto_rows": null,
            "grid_column": null,
            "grid_gap": null,
            "grid_row": null,
            "grid_template_areas": null,
            "grid_template_columns": null,
            "grid_template_rows": null,
            "height": null,
            "justify_content": null,
            "justify_items": null,
            "left": null,
            "margin": null,
            "max_height": null,
            "max_width": null,
            "min_height": null,
            "min_width": null,
            "object_fit": null,
            "object_position": null,
            "order": null,
            "overflow": null,
            "overflow_x": null,
            "overflow_y": null,
            "padding": null,
            "right": null,
            "top": null,
            "visibility": null,
            "width": null
          }
        },
        "b6ea110e495446559cf3f0d9e17dcec0": {
          "model_module": "@jupyter-widgets/controls",
          "model_name": "ButtonStyleModel",
          "model_module_version": "1.5.0",
          "state": {
            "_model_module": "@jupyter-widgets/controls",
            "_model_module_version": "1.5.0",
            "_model_name": "ButtonStyleModel",
            "_view_count": null,
            "_view_module": "@jupyter-widgets/base",
            "_view_module_version": "1.2.0",
            "_view_name": "StyleView",
            "button_color": null,
            "font_weight": ""
          }
        },
        "d085e7e2bf21464db65b51f0872fcf6c": {
          "model_module": "@jupyter-widgets/output",
          "model_name": "OutputModel",
          "model_module_version": "1.0.0",
          "state": {
            "_dom_classes": [],
            "_model_module": "@jupyter-widgets/output",
            "_model_module_version": "1.0.0",
            "_model_name": "OutputModel",
            "_view_count": null,
            "_view_module": "@jupyter-widgets/output",
            "_view_module_version": "1.0.0",
            "_view_name": "OutputView",
            "layout": "IPY_MODEL_b72851f5c5c04de9946b95a5a220a9f6",
            "msg_id": "",
            "outputs": [
              {
                "output_type": "stream",
                "name": "stdout",
                "text": [
                  "Liquidity Ratios for NVDA in 2024:\n"
                ]
              },
              {
                "output_type": "display_data",
                "data": {
                  "text/plain": "            Current Ratio  Quick Ratio  Cash Ratio\n2024-01-31           4.17         3.67        2.44",
                  "text/html": "\n  <div id=\"df-e0cd0843-a4b5-42de-b0d1-48b267245e7e\" class=\"colab-df-container\">\n    <div>\n<style scoped>\n    .dataframe tbody tr th:only-of-type {\n        vertical-align: middle;\n    }\n\n    .dataframe tbody tr th {\n        vertical-align: top;\n    }\n\n    .dataframe thead th {\n        text-align: right;\n    }\n</style>\n<table border=\"1\" class=\"dataframe\">\n  <thead>\n    <tr style=\"text-align: right;\">\n      <th></th>\n      <th>Current Ratio</th>\n      <th>Quick Ratio</th>\n      <th>Cash Ratio</th>\n    </tr>\n  </thead>\n  <tbody>\n    <tr>\n      <th>2024-01-31</th>\n      <td>4.17</td>\n      <td>3.67</td>\n      <td>2.44</td>\n    </tr>\n  </tbody>\n</table>\n</div>\n    <div class=\"colab-df-buttons\">\n\n  <div class=\"colab-df-container\">\n    <button class=\"colab-df-convert\" onclick=\"convertToInteractive('df-e0cd0843-a4b5-42de-b0d1-48b267245e7e')\"\n            title=\"Convert this dataframe to an interactive table.\"\n            style=\"display:none;\">\n\n  <svg xmlns=\"http://www.w3.org/2000/svg\" height=\"24px\" viewBox=\"0 -960 960 960\">\n    <path d=\"M120-120v-720h720v720H120Zm60-500h600v-160H180v160Zm220 220h160v-160H400v160Zm0 220h160v-160H400v160ZM180-400h160v-160H180v160Zm440 0h160v-160H620v160ZM180-180h160v-160H180v160Zm440 0h160v-160H620v160Z\"/>\n  </svg>\n    </button>\n\n  <style>\n    .colab-df-container {\n      display:flex;\n      gap: 12px;\n    }\n\n    .colab-df-convert {\n      background-color: #E8F0FE;\n      border: none;\n      border-radius: 50%;\n      cursor: pointer;\n      display: none;\n      fill: #1967D2;\n      height: 32px;\n      padding: 0 0 0 0;\n      width: 32px;\n    }\n\n    .colab-df-convert:hover {\n      background-color: #E2EBFA;\n      box-shadow: 0px 1px 2px rgba(60, 64, 67, 0.3), 0px 1px 3px 1px rgba(60, 64, 67, 0.15);\n      fill: #174EA6;\n    }\n\n    .colab-df-buttons div {\n      margin-bottom: 4px;\n    }\n\n    [theme=dark] .colab-df-convert {\n      background-color: #3B4455;\n      fill: #D2E3FC;\n    }\n\n    [theme=dark] .colab-df-convert:hover {\n      background-color: #434B5C;\n      box-shadow: 0px 1px 3px 1px rgba(0, 0, 0, 0.15);\n      filter: drop-shadow(0px 1px 2px rgba(0, 0, 0, 0.3));\n      fill: #FFFFFF;\n    }\n  </style>\n\n    <script>\n      const buttonEl =\n        document.querySelector('#df-e0cd0843-a4b5-42de-b0d1-48b267245e7e button.colab-df-convert');\n      buttonEl.style.display =\n        google.colab.kernel.accessAllowed ? 'block' : 'none';\n\n      async function convertToInteractive(key) {\n        const element = document.querySelector('#df-e0cd0843-a4b5-42de-b0d1-48b267245e7e');\n        const dataTable =\n          await google.colab.kernel.invokeFunction('convertToInteractive',\n                                                    [key], {});\n        if (!dataTable) return;\n\n        const docLinkHtml = 'Like what you see? Visit the ' +\n          '<a target=\"_blank\" href=https://colab.research.google.com/notebooks/data_table.ipynb>data table notebook</a>'\n          + ' to learn more about interactive tables.';\n        element.innerHTML = '';\n        dataTable['output_type'] = 'display_data';\n        await google.colab.output.renderOutput(dataTable, element);\n        const docLink = document.createElement('div');\n        docLink.innerHTML = docLinkHtml;\n        element.appendChild(docLink);\n      }\n    </script>\n  </div>\n\n\n    </div>\n  </div>\n",
                  "application/vnd.google.colaboratory.intrinsic+json": {
                    "type": "dataframe",
                    "summary": "{\n  \"name\": \"display(ticker_input, year_input, compute_button, output)\",\n  \"rows\": 1,\n  \"fields\": [\n    {\n      \"column\": \"Current Ratio\",\n      \"properties\": {\n        \"dtype\": \"number\",\n        \"std\": null,\n        \"min\": 4.17,\n        \"max\": 4.17,\n        \"num_unique_values\": 1,\n        \"samples\": [\n          4.17\n        ],\n        \"semantic_type\": \"\",\n        \"description\": \"\"\n      }\n    },\n    {\n      \"column\": \"Quick Ratio\",\n      \"properties\": {\n        \"dtype\": \"number\",\n        \"std\": null,\n        \"min\": 3.67,\n        \"max\": 3.67,\n        \"num_unique_values\": 1,\n        \"samples\": [\n          3.67\n        ],\n        \"semantic_type\": \"\",\n        \"description\": \"\"\n      }\n    },\n    {\n      \"column\": \"Cash Ratio\",\n      \"properties\": {\n        \"dtype\": \"number\",\n        \"std\": null,\n        \"min\": 2.44,\n        \"max\": 2.44,\n        \"num_unique_values\": 1,\n        \"samples\": [\n          2.44\n        ],\n        \"semantic_type\": \"\",\n        \"description\": \"\"\n      }\n    }\n  ]\n}"
                  }
                },
                "metadata": {}
              }
            ]
          }
        },
        "b72851f5c5c04de9946b95a5a220a9f6": {
          "model_module": "@jupyter-widgets/base",
          "model_name": "LayoutModel",
          "model_module_version": "1.2.0",
          "state": {
            "_model_module": "@jupyter-widgets/base",
            "_model_module_version": "1.2.0",
            "_model_name": "LayoutModel",
            "_view_count": null,
            "_view_module": "@jupyter-widgets/base",
            "_view_module_version": "1.2.0",
            "_view_name": "LayoutView",
            "align_content": null,
            "align_items": null,
            "align_self": null,
            "border": null,
            "bottom": null,
            "display": null,
            "flex": null,
            "flex_flow": null,
            "grid_area": null,
            "grid_auto_columns": null,
            "grid_auto_flow": null,
            "grid_auto_rows": null,
            "grid_column": null,
            "grid_gap": null,
            "grid_row": null,
            "grid_template_areas": null,
            "grid_template_columns": null,
            "grid_template_rows": null,
            "height": null,
            "justify_content": null,
            "justify_items": null,
            "left": null,
            "margin": null,
            "max_height": null,
            "max_width": null,
            "min_height": null,
            "min_width": null,
            "object_fit": null,
            "object_position": null,
            "order": null,
            "overflow": null,
            "overflow_x": null,
            "overflow_y": null,
            "padding": null,
            "right": null,
            "top": null,
            "visibility": null,
            "width": null
          }
        }
      }
    }
  },
  "cells": [
    {
      "cell_type": "code",
      "execution_count": 13,
      "metadata": {
        "colab": {
          "base_uri": "https://localhost:8080/",
          "height": 192,
          "referenced_widgets": [
            "a8d81147e96640059edd3d2f05874e25",
            "4435e4dcb76f4e51a76f131c143114e7",
            "0df2f1ade00540c2b955a44ed6d9998c",
            "bcedfb9a847444339a0dbc4342d5a298",
            "b51043ec4de44775aa0d19f24ea42b6f",
            "5cad7e500d054bc1808f7cf93d07d6c5",
            "e562103e29e54e26be18031148b49698",
            "d4e5ced403ae454eace04d2e549eca10",
            "b6ea110e495446559cf3f0d9e17dcec0",
            "d085e7e2bf21464db65b51f0872fcf6c",
            "b72851f5c5c04de9946b95a5a220a9f6"
          ]
        },
        "id": "l60qSgTv-f5_",
        "outputId": "c786f2ce-ac8c-4a03-b258-bbd16e2ceb36"
      },
      "outputs": [
        {
          "output_type": "display_data",
          "data": {
            "text/plain": [
              "Text(value='', description='Ticker:')"
            ],
            "application/vnd.jupyter.widget-view+json": {
              "version_major": 2,
              "version_minor": 0,
              "model_id": "a8d81147e96640059edd3d2f05874e25"
            }
          },
          "metadata": {}
        },
        {
          "output_type": "display_data",
          "data": {
            "text/plain": [
              "Text(value='', description='Year (YYYY):')"
            ],
            "application/vnd.jupyter.widget-view+json": {
              "version_major": 2,
              "version_minor": 0,
              "model_id": "bcedfb9a847444339a0dbc4342d5a298"
            }
          },
          "metadata": {}
        },
        {
          "output_type": "display_data",
          "data": {
            "text/plain": [
              "Button(description='Compute', style=ButtonStyle())"
            ],
            "application/vnd.jupyter.widget-view+json": {
              "version_major": 2,
              "version_minor": 0,
              "model_id": "e562103e29e54e26be18031148b49698"
            }
          },
          "metadata": {}
        },
        {
          "output_type": "display_data",
          "data": {
            "text/plain": [
              "Output()"
            ],
            "application/vnd.jupyter.widget-view+json": {
              "version_major": 2,
              "version_minor": 0,
              "model_id": "d085e7e2bf21464db65b51f0872fcf6c"
            }
          },
          "metadata": {}
        }
      ],
      "source": [
        "import yfinance as yf\n",
        "import pandas as pd\n",
        "import ipywidgets as widgets\n",
        "from IPython.display import display, clear_output\n",
        "\n",
        "pd.set_option(\"display.max_rows\", None)\n",
        "pd.set_option(\"display.max_columns\", None)\n",
        "\n",
        "def fetch_liquidity_ratios(ticker, year):\n",
        "    try:\n",
        "        stock = yf.Ticker(ticker)\n",
        "        balance_sheet = stock.balance_sheet\n",
        "\n",
        "        if balance_sheet.empty:\n",
        "            print(f\"No balance sheet data found for {ticker}. Try another ticker.\")\n",
        "            return\n",
        "\n",
        "        balance_sheet = balance_sheet.T\n",
        "\n",
        "        balance_sheet.index = pd.to_datetime(balance_sheet.index)\n",
        "\n",
        "        selected_year = balance_sheet[balance_sheet.index.year == int(year)]\n",
        "\n",
        "        if selected_year.empty:\n",
        "            print(f\"No balance sheet data found for {ticker} in {year}.\")\n",
        "            return\n",
        "\n",
        "        total_current_assets = selected_year.get(\"Current Assets\", pd.Series(0, index=selected_year.index))\n",
        "        total_current_liabilities = selected_year.get(\"Current Liabilities\", pd.Series(0, index=selected_year.index))\n",
        "        inventory = selected_year.get(\"Inventory\", pd.Series(0, index=selected_year.index))\n",
        "        cash_equivalents = selected_year.get(\"Cash Cash Equivalents And Short Term Investments\", pd.Series(0, index=selected_year.index))\n",
        "\n",
        "        total_current_assets = total_current_assets.infer_objects(copy=False).fillna(0)\n",
        "        total_current_liabilities = total_current_liabilities.infer_objects(copy=False).fillna(0)\n",
        "        inventory = inventory.infer_objects(copy=False).fillna(0)\n",
        "        cash_equivalents = cash_equivalents.infer_objects(copy=False).fillna(0)\n",
        "\n",
        "        total_current_liabilities.replace(0, float(\"nan\"), inplace=True)\n",
        "\n",
        "        selected_year = selected_year.copy()\n",
        "        selected_year.loc[:, \"Current Ratio\"] = (total_current_assets / total_current_liabilities).round(2)\n",
        "        selected_year.loc[:, \"Quick Ratio\"] = ((total_current_assets - inventory) / total_current_liabilities).round(2)\n",
        "        selected_year.loc[:, \"Cash Ratio\"] = (cash_equivalents / total_current_liabilities).round(2)\n",
        "\n",
        "        print(f\"Liquidity Ratios for {ticker} in {year}:\")\n",
        "        display(selected_year[[\"Current Ratio\", \"Quick Ratio\", \"Cash Ratio\"]])\n",
        "\n",
        "    except Exception as e:\n",
        "        print(\"Error fetching data:\", e)\n",
        "\n",
        "ticker_input = widgets.Text(description=\"Ticker:\")\n",
        "year_input = widgets.Text(description=\"Year (YYYY):\")\n",
        "compute_button = widgets.Button(description=\"Compute\")\n",
        "output = widgets.Output()\n",
        "\n",
        "def on_compute_button_clicked(b):\n",
        "    with output:\n",
        "        clear_output(wait=True)\n",
        "        ticker = ticker_input.value.strip().upper()\n",
        "        year = year_input.value.strip()\n",
        "\n",
        "        if not ticker or not year.isdigit():\n",
        "            print(\"Please enter a valid ticker and year.\")\n",
        "            return\n",
        "\n",
        "        fetch_liquidity_ratios(ticker, year)\n",
        "\n",
        "compute_button.on_click(on_compute_button_clicked)\n",
        "\n",
        "display(ticker_input, year_input, compute_button, output)"
      ]
    }
  ]
}